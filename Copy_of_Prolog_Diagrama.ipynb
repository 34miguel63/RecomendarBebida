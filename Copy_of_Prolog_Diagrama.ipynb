{
  "nbformat": 4,
  "nbformat_minor": 0,
  "metadata": {
    "colab": {
      "provenance": [],
      "toc_visible": true
    },
    "kernelspec": {
      "name": "python3",
      "display_name": "Python 3"
    },
    "language_info": {
      "name": "python"
    }
  },
  "cells": [
    {
      "cell_type": "markdown",
      "source": [
        "#     Recomendador de Bebidas en Prolog ☕🍋\n",
        "## Proyecto Académico - Inteligencia Artificial\n",
        "\n",
        "Este es un sistema experto básico implementado en Prolog que recomienda una bebida adecuada según:\n",
        "- La hora del día (mañana, tarde o noche)\n",
        "- El clima (caluroso o frío)\n"
      ],
      "metadata": {
        "id": "q_1gHGUq1i8p"
      }
    },
    {
      "cell_type": "markdown",
      "source": [
        "# Descripción del Problema: Recomendador de Bebidas\n",
        "\n",
        "En la vida cotidiana, muchas personas enfrentan la duda de qué bebida consumir según las condiciones del entorno, como la hora del día y el clima. Por ejemplo:\n",
        "- ¿Qué tomar en una mañana calurosa?\n",
        "- ¿Qué beber en una noche fría?\n",
        "- ¿Qué es adecuado para una tarde templada?\n",
        "\n",
        "Esta decisión, aunque aparentemente simple, puede influir en el bienestar, la hidratación y el confort personal. Sin embargo, no siempre se cuenta con una guía clara o inmediata para tomar esta elección."
      ],
      "metadata": {
        "id": "v0K6tcEK2Dxh"
      }
    },
    {
      "cell_type": "markdown",
      "source": [
        " # 🎯 Objetivo del Sistema\n",
        "El presente proyecto implementa un sistema experto en Prolog llamado RecomendarBebida, diseñado para:\n",
        "> Recomendar una bebida adecuada basándose en dos factores clave: la hora del día (mañana, tarde o noche) y el tipo de clima (cálido o frío).\n",
        "\n",
        "## El sistema utiliza reglas lógicas declarativas que modelan el conocimiento experto, permitiendo inferir la mejor opción de bebida en cada contexto.\n"
      ],
      "metadata": {
        "id": "3MXPCL-63UbF"
      }
    },
    {
      "cell_type": "markdown",
      "source": [
        "\n",
        "# 🔧 Instalación de SWI-Prolog en Google Colab"
      ],
      "metadata": {
        "id": "s6cCxDnD4DMm"
      }
    },
    {
      "cell_type": "code",
      "source": [
        "#@title Gráfica de Pastel\n",
        "def es_mañana(hora):\n",
        "    return 6 <= hora <= 11\n",
        "\n",
        "def es_tarde(hora):\n",
        "    return 12 <= hora <= 18\n",
        "\n",
        "def es_noche(hora):\n",
        "    return (19 <= hora <= 23) or (0 <= hora <= 5)\n",
        "\n",
        "def recomendar_bebida(hora, clima):\n",
        "    # Reglas de recomendación\n",
        "    if es_mañana(hora) and clima == \"calido\":\n",
        "        return \"Jugo de naranja fresco\"\n",
        "    elif es_mañana(hora) and clima == \"frio\":\n",
        "        return \"Café caliente\"\n",
        "    elif es_tarde(hora) and clima == \"calido\":\n",
        "        return \"Agua de limón con hielo\"\n",
        "    elif es_tarde(hora) and clima == \"frio\":\n",
        "        return \"Té caliente\"\n",
        "    elif es_noche(hora) and clima == \"calido\":\n",
        "        return \"Agua natural\"\n",
        "    elif es_noche(hora) and clima == \"frio\":\n",
        "        return \"Leche tibia con miel\"\n",
        "    else:\n",
        "        return \"No tengo una recomendación para esa combinación.\"\n",
        "\n",
        "def recomendar(hora, clima):\n",
        "    bebida = recomendar_bebida(hora, clima)\n",
        "    print(f\"Te recomiendo: {bebida}\")\n",
        "\n",
        "# Ejemplo de uso:\n",
        "if __name__ == \"__main__\":\n",
        "    # Pruebas\n",
        "    recomendar(8, \"calido\")   # → Jugo de naranja fresco\n",
        "    recomendar(14, \"frio\")   # → Té caliente\n",
        "    recomendar(22, \"calido\") # → Agua natural\n",
        "    recomendar(3, \"frio\")    # → Leche tibia con miel\n",
        "\n",
        "    hora = int(input(\"Ingresa la hora (0-23): \"))\n",
        "clima = input(\"Ingresa el clima (calido/frio): \").strip().lower()\n",
        "\n",
        "recomendar(hora, clima)"
      ],
      "metadata": {
        "colab": {
          "base_uri": "https://localhost:8080/"
        },
        "cellView": "form",
        "id": "7Hck-p637cB2",
        "outputId": "7b9165b5-ea05-47e4-f153-213831c15b5a"
      },
      "execution_count": null,
      "outputs": [
        {
          "output_type": "stream",
          "name": "stdout",
          "text": [
            "Te recomiendo: Jugo de naranja fresco\n",
            "Te recomiendo: Té caliente\n",
            "Te recomiendo: Agua natural\n",
            "Te recomiendo: Leche tibia con miel\n",
            "Ingresa la hora (0-23): 22\n",
            "Ingresa el clima (calido/frio): calido\n",
            "Te recomiendo: Agua natural\n"
          ]
        }
      ]
    },
    {
      "cell_type": "markdown",
      "source": [
        "#  📥 Descarga del Código desde GitHub"
      ],
      "metadata": {
        "id": "6Xd2fpsEBv71"
      }
    },
    {
      "cell_type": "code",
      "source": [
        "#@title Gráfica de Pastel\n",
        "# Descargar el archivo RecomendarBebida.pl desde Github\n",
        "!wget -O RecomendarBebida.pl https://raw.githubusercontent.com/34miguel63/RecomendarBebida/main/RecomendarBebida.pl\n",
        "\n",
        "#Verificar que el archivo se descargo\n",
        "!ls -la RecomendarBebida.pl\n",
        "!head -10 RecomendarBebida.pl\n",
        "print(\"✅ Archivo RecomendarBebida.pl descargado correctamente\")"
      ],
      "metadata": {
        "colab": {
          "base_uri": "https://localhost:8080/"
        },
        "cellView": "form",
        "id": "8Ec24PvVB6Yh",
        "outputId": "7389b341-812a-4e9d-9b28-4f95b4b33439"
      },
      "execution_count": null,
      "outputs": [
        {
          "output_type": "stream",
          "name": "stdout",
          "text": [
            "--2025-10-09 04:21:32--  https://raw.githubusercontent.com/34miguel63/RecomendarBebida/main/RecomendarBebida.pl\n",
            "Resolving raw.githubusercontent.com (raw.githubusercontent.com)... 185.199.108.133, 185.199.109.133, 185.199.110.133, ...\n",
            "Connecting to raw.githubusercontent.com (raw.githubusercontent.com)|185.199.108.133|:443... connected.\n",
            "HTTP request sent, awaiting response... 200 OK\n",
            "Length: 1311 (1.3K) [application/octet-stream]\n",
            "Saving to: ‘RecomendarBebida.pl’\n",
            "\n",
            "\rRecomendarBebida.pl   0%[                    ]       0  --.-KB/s               \rRecomendarBebida.pl 100%[===================>]   1.28K  --.-KB/s    in 0s      \n",
            "\n",
            "2025-10-09 04:21:32 (94.3 MB/s) - ‘RecomendarBebida.pl’ saved [1311/1311]\n",
            "\n",
            "-rw-r--r-- 1 root root 1311 Oct  9 04:21 RecomendarBebida.pl\n",
            "% recomendador_bebidas.pl\n",
            "% Sistema experto simple en Prolog que recomienda una bebida\n",
            "% seg�n la hora del d�a y el clima.\n",
            "\n",
            "% Hechos: definici�n de horas del d�a\n",
            "ma�ana(Hora) :- Hora >= 6, Hora =< 11.\n",
            "tarde(Hora)  :- Hora >= 12, Hora =< 18.\n",
            "noche(Hora)  :- (Hora >= 19, Hora =< 23) ; (Hora >= 0, Hora =< 5).\n",
            "\n",
            "% Hechos: tipos de clima\n",
            "✅ Archivo RecomendarBebida.pl descargado correctamente\n"
          ]
        }
      ]
    },
    {
      "cell_type": "markdown",
      "source": [
        "\n",
        "# 🎯 Conclusiones\n",
        "### 🎯 **Logros del Proyecto:**\n",
        "\n",
        "1. **Implementación Exitosa**:  \n",
        "   Se desarrolló un sistema experto funcional en Prolog que puede recomendar bebidas según la hora del día y el clima, demostrando la capacidad de Prolog para modelar reglas lógicas simples y efectivas.\n",
        "\n",
        "2. **Integración Tecnológica**:  \n",
        "   Se logró la integración exitosa entre GitHub, Prolog y Google Colab, creando un flujo de trabajo académico completo: desde el almacenamiento del código hasta su ejecución en la nube.\n",
        "\n",
        "3. **Aplicación Práctica**:  \n",
        "   El sistema resuelve un problema cotidiano con reglas lógicas claras, útil como ejemplo pedagógico o base para sistemas más complejos (como recomendadores personalizados o asistentes inteligentes).\n",
        "\n",
        "4. **Solución de Problemas**:  \n",
        "   Se identificaron y solucionaron problemas de compatibilidad con SWI-Prolog en Colab, incluyendo la instalación del intérprete, descarga del archivo desde GitHub y ejecución de consultas.\n",
        "\n",
        "---\n",
        "\n",
        "### 📚 Aprendizajes Clave:\n",
        "\n",
        "- Prolog es excelente para sistemas basados en reglas y lógica declarativa, especialmente cuando se busca transparencia en el razonamiento.\n",
        "- Git permite un control de versiones efectivo para proyectos académicos, facilitando la colaboración y el seguimiento de cambios.\n",
        "- Google Colab facilita la demostración y colaboración en proyectos de IA, incluso con lenguajes no nativos como Prolog.\n",
        "- Simplificar reglas complejas o evitar redundancias mejora la compatibilidad y el rendimiento del sistema en entornos limitados como Colab.\n",
        "\n",
        "---\n",
        "\n",
        "### 🔮 Posibles Mejoras Futuras:\n",
        "\n",
        "- Agregar más factores de decisión: preferencias personales, intolerancias alimentarias, nivel de actividad física.\n",
        "- Implementar un sistema de confianza o prioridad en las recomendaciones (ej: “90% seguro”).\n",
        "- Integrar una interfaz gráfica simple (usando Python + Streamlit o Tkinter) para hacerlo más amigable.\n",
        "- Desarrollar una interfaz web para que usuarios finales puedan interactuar sin conocer Prolog.\n",
        "- Exportar resultados a archivos `.txt` o `.csv` para análisis posterior o integración con otros sistemas.\n",
        "\n",
        "---\n",
        "\n",
        "### 📄 **Proyecto desarrollado como parte del curso de Inteligencia Artificial**\n",
        "**Autor**: Miguel Anguel Banteurt Blanco  \n",
        "**Fecha**: Enero 2025\n",
        "\n",
        "**Repositorio**:https://github.com/34miguel63/RecomendarBebida.git\n",
        "\n",
        "> 💡 Este sistema, aunque sencillo, demuestra cómo la programación lógica puede aplicarse a problemas cotidianos con gran claridad y utilidad práctica.\n",
        "\n"
      ],
      "metadata": {
        "id": "k26drRdbD_--"
      }
    }
  ]
}